{
  "nbformat": 4,
  "nbformat_minor": 0,
  "metadata": {
    "accelerator": "TPU",
    "colab": {
      "name": "NN.ipynb",
      "provenance": []
    },
    "kernelspec": {
      "display_name": "Python 3",
      "language": "python",
      "name": "python3"
    },
    "language_info": {
      "codemirror_mode": {
        "name": "ipython",
        "version": 3
      },
      "file_extension": ".py",
      "mimetype": "text/x-python",
      "name": "python",
      "nbconvert_exporter": "python",
      "pygments_lexer": "ipython3",
      "version": "3.7.6"
    }
  },
  "cells": [
    {
      "cell_type": "code",
      "metadata": {
        "id": "L9sCXT6WuMAh"
      },
      "source": [
        "import numpy as np\r\n",
        "import pandas as pd\r\n",
        "import matplotlib.pyplot as plt\r\n",
        "import tensorflow as tf"
      ],
      "execution_count": null,
      "outputs": []
    },
    {
      "cell_type": "code",
      "metadata": {
        "colab": {
          "base_uri": "https://localhost:8080/",
          "height": 204
        },
        "id": "eF_kqXOvltt1",
        "outputId": "d68802ee-b94c-4f8b-ddf3-19a4f5829eaa"
      },
      "source": [
        "df = pd.read_csv('/content/testcases4.csv')\n",
        "df.head()"
      ],
      "execution_count": null,
      "outputs": [
        {
          "output_type": "execute_result",
          "data": {
            "text/html": [
              "<div>\n",
              "<style scoped>\n",
              "    .dataframe tbody tr th:only-of-type {\n",
              "        vertical-align: middle;\n",
              "    }\n",
              "\n",
              "    .dataframe tbody tr th {\n",
              "        vertical-align: top;\n",
              "    }\n",
              "\n",
              "    .dataframe thead th {\n",
              "        text-align: right;\n",
              "    }\n",
              "</style>\n",
              "<table border=\"1\" class=\"dataframe\">\n",
              "  <thead>\n",
              "    <tr style=\"text-align: right;\">\n",
              "      <th></th>\n",
              "      <th>x</th>\n",
              "      <th>a</th>\n",
              "      <th>y1</th>\n",
              "      <th>m1</th>\n",
              "    </tr>\n",
              "  </thead>\n",
              "  <tbody>\n",
              "    <tr>\n",
              "      <th>0</th>\n",
              "      <td>0.000000</td>\n",
              "      <td>0.0</td>\n",
              "      <td>0.000000</td>\n",
              "      <td>0.000000</td>\n",
              "    </tr>\n",
              "    <tr>\n",
              "      <th>1</th>\n",
              "      <td>0.000000</td>\n",
              "      <td>1.0</td>\n",
              "      <td>-0.000000</td>\n",
              "      <td>1.000000</td>\n",
              "    </tr>\n",
              "    <tr>\n",
              "      <th>2</th>\n",
              "      <td>0.102041</td>\n",
              "      <td>1.0</td>\n",
              "      <td>0.005029</td>\n",
              "      <td>0.897959</td>\n",
              "    </tr>\n",
              "    <tr>\n",
              "      <th>3</th>\n",
              "      <td>0.204082</td>\n",
              "      <td>1.0</td>\n",
              "      <td>0.019408</td>\n",
              "      <td>0.795918</td>\n",
              "    </tr>\n",
              "    <tr>\n",
              "      <th>4</th>\n",
              "      <td>0.306122</td>\n",
              "      <td>1.0</td>\n",
              "      <td>0.042074</td>\n",
              "      <td>0.693878</td>\n",
              "    </tr>\n",
              "  </tbody>\n",
              "</table>\n",
              "</div>"
            ],
            "text/plain": [
              "          x    a        y1        m1\n",
              "0  0.000000  0.0  0.000000  0.000000\n",
              "1  0.000000  1.0 -0.000000  1.000000\n",
              "2  0.102041  1.0  0.005029  0.897959\n",
              "3  0.204082  1.0  0.019408  0.795918\n",
              "4  0.306122  1.0  0.042074  0.693878"
            ]
          },
          "metadata": {
            "tags": []
          },
          "execution_count": 2
        }
      ]
    },
    {
      "cell_type": "code",
      "metadata": {
        "colab": {
          "base_uri": "https://localhost:8080/",
          "height": 297
        },
        "id": "0Lm7dMrrltt9",
        "outputId": "05f751fc-6eb6-4f2c-9637-33d19fdab53a"
      },
      "source": [
        "df.describe()"
      ],
      "execution_count": null,
      "outputs": [
        {
          "output_type": "execute_result",
          "data": {
            "text/html": [
              "<div>\n",
              "<style scoped>\n",
              "    .dataframe tbody tr th:only-of-type {\n",
              "        vertical-align: middle;\n",
              "    }\n",
              "\n",
              "    .dataframe tbody tr th {\n",
              "        vertical-align: top;\n",
              "    }\n",
              "\n",
              "    .dataframe thead th {\n",
              "        text-align: right;\n",
              "    }\n",
              "</style>\n",
              "<table border=\"1\" class=\"dataframe\">\n",
              "  <thead>\n",
              "    <tr style=\"text-align: right;\">\n",
              "      <th></th>\n",
              "      <th>x</th>\n",
              "      <th>a</th>\n",
              "      <th>y1</th>\n",
              "      <th>m1</th>\n",
              "    </tr>\n",
              "  </thead>\n",
              "  <tbody>\n",
              "    <tr>\n",
              "      <th>count</th>\n",
              "      <td>2501.000000</td>\n",
              "      <td>2501.000000</td>\n",
              "      <td>2501.000000</td>\n",
              "      <td>2501.000000</td>\n",
              "    </tr>\n",
              "    <tr>\n",
              "      <th>mean</th>\n",
              "      <td>2.499000</td>\n",
              "      <td>2.998800</td>\n",
              "      <td>7.768449</td>\n",
              "      <td>1.047744</td>\n",
              "    </tr>\n",
              "    <tr>\n",
              "      <th>std</th>\n",
              "      <td>1.473386</td>\n",
              "      <td>1.179557</td>\n",
              "      <td>8.464789</td>\n",
              "      <td>1.259639</td>\n",
              "    </tr>\n",
              "    <tr>\n",
              "      <th>min</th>\n",
              "      <td>0.000000</td>\n",
              "      <td>0.000000</td>\n",
              "      <td>-0.000000</td>\n",
              "      <td>0.000000</td>\n",
              "    </tr>\n",
              "    <tr>\n",
              "      <th>25%</th>\n",
              "      <td>1.224490</td>\n",
              "      <td>1.979592</td>\n",
              "      <td>1.412110</td>\n",
              "      <td>0.000000</td>\n",
              "    </tr>\n",
              "    <tr>\n",
              "      <th>50%</th>\n",
              "      <td>2.448980</td>\n",
              "      <td>2.959184</td>\n",
              "      <td>4.542467</td>\n",
              "      <td>0.489796</td>\n",
              "    </tr>\n",
              "    <tr>\n",
              "      <th>75%</th>\n",
              "      <td>3.775510</td>\n",
              "      <td>4.020408</td>\n",
              "      <td>11.496981</td>\n",
              "      <td>1.857143</td>\n",
              "    </tr>\n",
              "    <tr>\n",
              "      <th>max</th>\n",
              "      <td>5.000000</td>\n",
              "      <td>5.000000</td>\n",
              "      <td>41.666667</td>\n",
              "      <td>5.000000</td>\n",
              "    </tr>\n",
              "  </tbody>\n",
              "</table>\n",
              "</div>"
            ],
            "text/plain": [
              "                 x            a           y1           m1\n",
              "count  2501.000000  2501.000000  2501.000000  2501.000000\n",
              "mean      2.499000     2.998800     7.768449     1.047744\n",
              "std       1.473386     1.179557     8.464789     1.259639\n",
              "min       0.000000     0.000000    -0.000000     0.000000\n",
              "25%       1.224490     1.979592     1.412110     0.000000\n",
              "50%       2.448980     2.959184     4.542467     0.489796\n",
              "75%       3.775510     4.020408    11.496981     1.857143\n",
              "max       5.000000     5.000000    41.666667     5.000000"
            ]
          },
          "metadata": {
            "tags": []
          },
          "execution_count": 3
        }
      ]
    },
    {
      "cell_type": "code",
      "metadata": {
        "id": "Ji0bfJSYltuH"
      },
      "source": [
        "from sklearn.model_selection import train_test_split\n",
        "X = np.array(df[['x', 'a']])\n",
        "y = np.array(df[['y1']])\n",
        "X_train, X_test, y_train, y_test = train_test_split(X, y, train_size = 0.8, random_state = 0)"
      ],
      "execution_count": null,
      "outputs": []
    },
    {
      "cell_type": "code",
      "metadata": {
        "colab": {
          "base_uri": "https://localhost:8080/"
        },
        "id": "WDbn0SpLltuM",
        "outputId": "d12837c9-f7f0-48d6-e345-84c836d53c33"
      },
      "source": [
        "print(X_train.shape)\n",
        "print(X_test.shape)\n",
        "print(y_train.shape)\n",
        "print(y_test.shape)"
      ],
      "execution_count": null,
      "outputs": [
        {
          "output_type": "stream",
          "text": [
            "(2000, 2)\n",
            "(501, 2)\n",
            "(2000, 1)\n",
            "(501, 1)\n"
          ],
          "name": "stdout"
        }
      ]
    },
    {
      "cell_type": "code",
      "metadata": {
        "id": "cA47xQeqltuS"
      },
      "source": [
        "def nn(input_shape = (1,2)):\n",
        "    X_input = tf.keras.layers.Input(input_shape)\n",
        "    X = tf.keras.layers.Dense(1, activation = 'relu')(X_input)\n",
        "    X = tf.keras.layers.Dense(1)(X)\n",
        "    m = tf.keras.models.Model(inputs = X_input, outputs = X, name = 'Regression_Model')\n",
        "    return m"
      ],
      "execution_count": null,
      "outputs": []
    },
    {
      "cell_type": "code",
      "metadata": {
        "id": "XdBzCgkGltwr"
      },
      "source": [
        "reg_model = nn(X_train.shape[1:])\n",
        "reg_model.compile(optimizer = 'adam', loss = 'mse', metrics = ['RootMeanSquaredError'])"
      ],
      "execution_count": null,
      "outputs": []
    },
    {
      "cell_type": "code",
      "metadata": {
        "colab": {
          "base_uri": "https://localhost:8080/"
        },
        "id": "lz1lXgZeltwy",
        "outputId": "69562a50-cddf-48c7-966f-c11b4c5de028"
      },
      "source": [
        "reg_model.summary()"
      ],
      "execution_count": null,
      "outputs": [
        {
          "output_type": "stream",
          "text": [
            "Model: \"Regression_Model\"\n",
            "_________________________________________________________________\n",
            "Layer (type)                 Output Shape              Param #   \n",
            "=================================================================\n",
            "input_1 (InputLayer)         [(None, 2)]               0         \n",
            "_________________________________________________________________\n",
            "dense (Dense)                (None, 1)                 3         \n",
            "_________________________________________________________________\n",
            "dense_1 (Dense)              (None, 1)                 2         \n",
            "=================================================================\n",
            "Total params: 5\n",
            "Trainable params: 5\n",
            "Non-trainable params: 0\n",
            "_________________________________________________________________\n"
          ],
          "name": "stdout"
        }
      ]
    },
    {
      "cell_type": "code",
      "metadata": {
        "id": "OZk9_rgCltw4"
      },
      "source": [
        "class myCallback(tf.keras.callbacks.Callback):\n",
        "    def on_epoch_end(self, epoch, logs = {}):\n",
        "        if(logs.get('root_mean_squared_error')<0.1):\n",
        "            print(\"\\n0.1 Loss. Training Stopped!\")\n",
        "            self.model.stop_training = True\n",
        "callback = myCallback()"
      ],
      "execution_count": null,
      "outputs": []
    },
    {
      "cell_type": "code",
      "metadata": {
        "colab": {
          "base_uri": "https://localhost:8080/"
        },
        "id": "2eG_xhuultw_",
        "outputId": "3831cd62-7e86-451e-8a6f-fd915545cc68"
      },
      "source": [
        "history = reg_model.fit(X_train, y_train, epochs = 200, batch_size = 8, callbacks = [callback], validation_data = \n",
        "                        (X_test, y_test))"
      ],
      "execution_count": null,
      "outputs": [
        {
          "output_type": "stream",
          "text": [
            "Epoch 1/200\n",
            "250/250 [==============================] - 1s 3ms/step - loss: 132.4671 - root_mean_squared_error: 11.5019 - val_loss: 123.8799 - val_root_mean_squared_error: 11.1301\n",
            "Epoch 2/200\n",
            "250/250 [==============================] - 0s 1ms/step - loss: 112.8771 - root_mean_squared_error: 10.6140 - val_loss: 89.1569 - val_root_mean_squared_error: 9.4423\n",
            "Epoch 3/200\n",
            "250/250 [==============================] - 0s 1ms/step - loss: 70.8423 - root_mean_squared_error: 8.4097 - val_loss: 70.8163 - val_root_mean_squared_error: 8.4152\n",
            "Epoch 4/200\n",
            "250/250 [==============================] - 0s 1ms/step - loss: 59.7703 - root_mean_squared_error: 7.7292 - val_loss: 63.9214 - val_root_mean_squared_error: 7.9951\n",
            "Epoch 5/200\n",
            "250/250 [==============================] - 0s 1ms/step - loss: 54.6943 - root_mean_squared_error: 7.3874 - val_loss: 60.0895 - val_root_mean_squared_error: 7.7517\n",
            "Epoch 6/200\n",
            "250/250 [==============================] - 0s 1ms/step - loss: 49.3489 - root_mean_squared_error: 7.0150 - val_loss: 56.9823 - val_root_mean_squared_error: 7.5487\n",
            "Epoch 7/200\n",
            "250/250 [==============================] - 0s 1ms/step - loss: 50.0387 - root_mean_squared_error: 7.0722 - val_loss: 54.2000 - val_root_mean_squared_error: 7.3621\n",
            "Epoch 8/200\n",
            "250/250 [==============================] - 0s 1ms/step - loss: 46.7815 - root_mean_squared_error: 6.8376 - val_loss: 51.6480 - val_root_mean_squared_error: 7.1867\n",
            "Epoch 9/200\n",
            "250/250 [==============================] - 0s 1ms/step - loss: 45.4163 - root_mean_squared_error: 6.7351 - val_loss: 49.2502 - val_root_mean_squared_error: 7.0178\n",
            "Epoch 10/200\n",
            "250/250 [==============================] - 0s 1ms/step - loss: 45.0693 - root_mean_squared_error: 6.7078 - val_loss: 46.9635 - val_root_mean_squared_error: 6.8530\n",
            "Epoch 11/200\n",
            "250/250 [==============================] - 0s 1ms/step - loss: 39.6656 - root_mean_squared_error: 6.2942 - val_loss: 44.8404 - val_root_mean_squared_error: 6.6963\n",
            "Epoch 12/200\n",
            "250/250 [==============================] - 0s 1ms/step - loss: 36.7635 - root_mean_squared_error: 6.0599 - val_loss: 42.8257 - val_root_mean_squared_error: 6.5441\n",
            "Epoch 13/200\n",
            "250/250 [==============================] - 0s 1ms/step - loss: 37.2302 - root_mean_squared_error: 6.1000 - val_loss: 40.9172 - val_root_mean_squared_error: 6.3967\n",
            "Epoch 14/200\n",
            "250/250 [==============================] - 0s 1ms/step - loss: 35.4779 - root_mean_squared_error: 5.9552 - val_loss: 39.1405 - val_root_mean_squared_error: 6.2562\n",
            "Epoch 15/200\n",
            "250/250 [==============================] - 0s 1ms/step - loss: 33.5326 - root_mean_squared_error: 5.7862 - val_loss: 37.4058 - val_root_mean_squared_error: 6.1160\n",
            "Epoch 16/200\n",
            "250/250 [==============================] - 0s 1ms/step - loss: 34.8896 - root_mean_squared_error: 5.9025 - val_loss: 35.8088 - val_root_mean_squared_error: 5.9840\n",
            "Epoch 17/200\n",
            "250/250 [==============================] - 0s 1ms/step - loss: 30.6513 - root_mean_squared_error: 5.5316 - val_loss: 34.2781 - val_root_mean_squared_error: 5.8548\n",
            "Epoch 18/200\n",
            "250/250 [==============================] - 0s 1ms/step - loss: 29.2603 - root_mean_squared_error: 5.4067 - val_loss: 32.8501 - val_root_mean_squared_error: 5.7315\n",
            "Epoch 19/200\n",
            "250/250 [==============================] - 0s 2ms/step - loss: 27.0535 - root_mean_squared_error: 5.1994 - val_loss: 31.4766 - val_root_mean_squared_error: 5.6104\n",
            "Epoch 20/200\n",
            "250/250 [==============================] - 0s 1ms/step - loss: 26.4736 - root_mean_squared_error: 5.1412 - val_loss: 30.2380 - val_root_mean_squared_error: 5.4989\n",
            "Epoch 21/200\n",
            "250/250 [==============================] - 0s 1ms/step - loss: 27.4058 - root_mean_squared_error: 5.2331 - val_loss: 29.1127 - val_root_mean_squared_error: 5.3956\n",
            "Epoch 22/200\n",
            "250/250 [==============================] - 0s 1ms/step - loss: 24.5522 - root_mean_squared_error: 4.9530 - val_loss: 27.9673 - val_root_mean_squared_error: 5.2884\n",
            "Epoch 23/200\n",
            "250/250 [==============================] - 0s 1ms/step - loss: 23.8254 - root_mean_squared_error: 4.8789 - val_loss: 26.9929 - val_root_mean_squared_error: 5.1955\n",
            "Epoch 24/200\n",
            "250/250 [==============================] - 0s 1ms/step - loss: 24.4291 - root_mean_squared_error: 4.9371 - val_loss: 26.1079 - val_root_mean_squared_error: 5.1096\n",
            "Epoch 25/200\n",
            "250/250 [==============================] - 0s 1ms/step - loss: 24.4558 - root_mean_squared_error: 4.9391 - val_loss: 25.2808 - val_root_mean_squared_error: 5.0280\n",
            "Epoch 26/200\n",
            "250/250 [==============================] - 0s 1ms/step - loss: 23.1784 - root_mean_squared_error: 4.8124 - val_loss: 24.4592 - val_root_mean_squared_error: 4.9456\n",
            "Epoch 27/200\n",
            "250/250 [==============================] - 0s 1ms/step - loss: 21.4307 - root_mean_squared_error: 4.6258 - val_loss: 23.6631 - val_root_mean_squared_error: 4.8645\n",
            "Epoch 28/200\n",
            "250/250 [==============================] - 0s 1ms/step - loss: 20.8592 - root_mean_squared_error: 4.5648 - val_loss: 22.9651 - val_root_mean_squared_error: 4.7922\n",
            "Epoch 29/200\n",
            "250/250 [==============================] - 0s 1ms/step - loss: 19.2885 - root_mean_squared_error: 4.3881 - val_loss: 22.3038 - val_root_mean_squared_error: 4.7227\n",
            "Epoch 30/200\n",
            "250/250 [==============================] - 0s 1ms/step - loss: 21.4390 - root_mean_squared_error: 4.6200 - val_loss: 21.7621 - val_root_mean_squared_error: 4.6650\n",
            "Epoch 31/200\n",
            "250/250 [==============================] - 0s 1ms/step - loss: 18.9155 - root_mean_squared_error: 4.3428 - val_loss: 21.1678 - val_root_mean_squared_error: 4.6008\n",
            "Epoch 32/200\n",
            "250/250 [==============================] - 0s 1ms/step - loss: 18.2128 - root_mean_squared_error: 4.2638 - val_loss: 20.5298 - val_root_mean_squared_error: 4.5310\n",
            "Epoch 33/200\n",
            "250/250 [==============================] - 0s 1ms/step - loss: 18.5087 - root_mean_squared_error: 4.2987 - val_loss: 20.0330 - val_root_mean_squared_error: 4.4758\n",
            "Epoch 34/200\n",
            "250/250 [==============================] - 0s 1ms/step - loss: 17.5697 - root_mean_squared_error: 4.1882 - val_loss: 19.4949 - val_root_mean_squared_error: 4.4153\n",
            "Epoch 35/200\n",
            "250/250 [==============================] - 0s 1ms/step - loss: 18.0899 - root_mean_squared_error: 4.2501 - val_loss: 19.0790 - val_root_mean_squared_error: 4.3679\n",
            "Epoch 36/200\n",
            "250/250 [==============================] - 0s 1ms/step - loss: 19.3011 - root_mean_squared_error: 4.3715 - val_loss: 18.6651 - val_root_mean_squared_error: 4.3203\n",
            "Epoch 37/200\n",
            "250/250 [==============================] - 0s 1ms/step - loss: 18.0798 - root_mean_squared_error: 4.2474 - val_loss: 18.1600 - val_root_mean_squared_error: 4.2615\n",
            "Epoch 38/200\n",
            "250/250 [==============================] - 0s 1ms/step - loss: 15.7991 - root_mean_squared_error: 3.9726 - val_loss: 17.6917 - val_root_mean_squared_error: 4.2062\n",
            "Epoch 39/200\n",
            "250/250 [==============================] - 0s 1ms/step - loss: 16.4455 - root_mean_squared_error: 4.0543 - val_loss: 17.2857 - val_root_mean_squared_error: 4.1576\n",
            "Epoch 40/200\n",
            "250/250 [==============================] - 0s 1ms/step - loss: 16.1239 - root_mean_squared_error: 4.0104 - val_loss: 16.9422 - val_root_mean_squared_error: 4.1161\n",
            "Epoch 41/200\n",
            "250/250 [==============================] - 0s 1ms/step - loss: 15.2654 - root_mean_squared_error: 3.9033 - val_loss: 16.6960 - val_root_mean_squared_error: 4.0861\n",
            "Epoch 42/200\n",
            "250/250 [==============================] - 0s 1ms/step - loss: 13.5690 - root_mean_squared_error: 3.6803 - val_loss: 16.1851 - val_root_mean_squared_error: 4.0231\n",
            "Epoch 43/200\n",
            "250/250 [==============================] - 0s 1ms/step - loss: 14.3953 - root_mean_squared_error: 3.7916 - val_loss: 15.8801 - val_root_mean_squared_error: 3.9850\n",
            "Epoch 44/200\n",
            "250/250 [==============================] - 0s 1ms/step - loss: 14.3494 - root_mean_squared_error: 3.7853 - val_loss: 15.5444 - val_root_mean_squared_error: 3.9426\n",
            "Epoch 45/200\n",
            "250/250 [==============================] - 0s 1ms/step - loss: 14.7032 - root_mean_squared_error: 3.8334 - val_loss: 15.3624 - val_root_mean_squared_error: 3.9195\n",
            "Epoch 46/200\n",
            "250/250 [==============================] - 0s 1ms/step - loss: 13.2625 - root_mean_squared_error: 3.6392 - val_loss: 14.9755 - val_root_mean_squared_error: 3.8698\n",
            "Epoch 47/200\n",
            "250/250 [==============================] - 0s 1ms/step - loss: 13.4706 - root_mean_squared_error: 3.6676 - val_loss: 14.7250 - val_root_mean_squared_error: 3.8373\n",
            "Epoch 48/200\n",
            "250/250 [==============================] - 0s 1ms/step - loss: 13.1057 - root_mean_squared_error: 3.6178 - val_loss: 14.4778 - val_root_mean_squared_error: 3.8050\n",
            "Epoch 49/200\n",
            "250/250 [==============================] - 0s 1ms/step - loss: 12.4053 - root_mean_squared_error: 3.5197 - val_loss: 14.2680 - val_root_mean_squared_error: 3.7773\n",
            "Epoch 50/200\n",
            "250/250 [==============================] - 0s 1ms/step - loss: 11.9606 - root_mean_squared_error: 3.4549 - val_loss: 14.0827 - val_root_mean_squared_error: 3.7527\n",
            "Epoch 51/200\n",
            "250/250 [==============================] - 0s 1ms/step - loss: 12.2079 - root_mean_squared_error: 3.4912 - val_loss: 13.8363 - val_root_mean_squared_error: 3.7197\n",
            "Epoch 52/200\n",
            "250/250 [==============================] - 0s 1ms/step - loss: 13.5749 - root_mean_squared_error: 3.6829 - val_loss: 13.6905 - val_root_mean_squared_error: 3.7001\n",
            "Epoch 53/200\n",
            "250/250 [==============================] - 0s 1ms/step - loss: 12.2466 - root_mean_squared_error: 3.4988 - val_loss: 13.4245 - val_root_mean_squared_error: 3.6639\n",
            "Epoch 54/200\n",
            "250/250 [==============================] - 0s 1ms/step - loss: 12.1545 - root_mean_squared_error: 3.4838 - val_loss: 13.2679 - val_root_mean_squared_error: 3.6425\n",
            "Epoch 55/200\n",
            "250/250 [==============================] - 0s 1ms/step - loss: 12.2024 - root_mean_squared_error: 3.4919 - val_loss: 13.0159 - val_root_mean_squared_error: 3.6078\n",
            "Epoch 56/200\n",
            "250/250 [==============================] - 0s 1ms/step - loss: 11.9731 - root_mean_squared_error: 3.4595 - val_loss: 12.8248 - val_root_mean_squared_error: 3.5812\n",
            "Epoch 57/200\n",
            "250/250 [==============================] - 0s 1ms/step - loss: 11.8370 - root_mean_squared_error: 3.4394 - val_loss: 12.6764 - val_root_mean_squared_error: 3.5604\n",
            "Epoch 58/200\n",
            "250/250 [==============================] - 0s 1ms/step - loss: 11.8134 - root_mean_squared_error: 3.4357 - val_loss: 12.4912 - val_root_mean_squared_error: 3.5343\n",
            "Epoch 59/200\n",
            "250/250 [==============================] - 0s 1ms/step - loss: 12.0338 - root_mean_squared_error: 3.4654 - val_loss: 12.3853 - val_root_mean_squared_error: 3.5193\n",
            "Epoch 60/200\n",
            "250/250 [==============================] - 0s 2ms/step - loss: 11.1924 - root_mean_squared_error: 3.3450 - val_loss: 12.1491 - val_root_mean_squared_error: 3.4856\n",
            "Epoch 61/200\n",
            "250/250 [==============================] - 0s 1ms/step - loss: 11.0844 - root_mean_squared_error: 3.3269 - val_loss: 12.0212 - val_root_mean_squared_error: 3.4672\n",
            "Epoch 62/200\n",
            "250/250 [==============================] - 0s 1ms/step - loss: 10.7110 - root_mean_squared_error: 3.2716 - val_loss: 11.7776 - val_root_mean_squared_error: 3.4318\n",
            "Epoch 63/200\n",
            "250/250 [==============================] - 0s 1ms/step - loss: 10.6921 - root_mean_squared_error: 3.2693 - val_loss: 11.6915 - val_root_mean_squared_error: 3.4193\n",
            "Epoch 64/200\n",
            "250/250 [==============================] - 0s 1ms/step - loss: 10.3060 - root_mean_squared_error: 3.2095 - val_loss: 11.4938 - val_root_mean_squared_error: 3.3902\n",
            "Epoch 65/200\n",
            "250/250 [==============================] - 0s 1ms/step - loss: 10.6762 - root_mean_squared_error: 3.2652 - val_loss: 11.2996 - val_root_mean_squared_error: 3.3615\n",
            "Epoch 66/200\n",
            "250/250 [==============================] - 0s 1ms/step - loss: 10.5317 - root_mean_squared_error: 3.2445 - val_loss: 11.1400 - val_root_mean_squared_error: 3.3377\n",
            "Epoch 67/200\n",
            "250/250 [==============================] - 0s 1ms/step - loss: 10.3466 - root_mean_squared_error: 3.2152 - val_loss: 11.0261 - val_root_mean_squared_error: 3.3206\n",
            "Epoch 68/200\n",
            "250/250 [==============================] - 0s 1ms/step - loss: 10.9427 - root_mean_squared_error: 3.3017 - val_loss: 10.7887 - val_root_mean_squared_error: 3.2846\n",
            "Epoch 69/200\n",
            "250/250 [==============================] - 0s 1ms/step - loss: 9.6757 - root_mean_squared_error: 3.1086 - val_loss: 10.6417 - val_root_mean_squared_error: 3.2622\n",
            "Epoch 70/200\n",
            "250/250 [==============================] - 0s 1ms/step - loss: 10.0389 - root_mean_squared_error: 3.1662 - val_loss: 10.4901 - val_root_mean_squared_error: 3.2388\n",
            "Epoch 71/200\n",
            "250/250 [==============================] - 0s 1ms/step - loss: 9.4359 - root_mean_squared_error: 3.0697 - val_loss: 10.2903 - val_root_mean_squared_error: 3.2078\n",
            "Epoch 72/200\n",
            "250/250 [==============================] - 0s 1ms/step - loss: 9.6910 - root_mean_squared_error: 3.1112 - val_loss: 10.1147 - val_root_mean_squared_error: 3.1804\n",
            "Epoch 73/200\n",
            "250/250 [==============================] - 0s 1ms/step - loss: 9.2177 - root_mean_squared_error: 3.0356 - val_loss: 10.0538 - val_root_mean_squared_error: 3.1708\n",
            "Epoch 74/200\n",
            "250/250 [==============================] - 0s 1ms/step - loss: 9.1535 - root_mean_squared_error: 3.0237 - val_loss: 9.7815 - val_root_mean_squared_error: 3.1275\n",
            "Epoch 75/200\n",
            "250/250 [==============================] - 0s 1ms/step - loss: 8.6455 - root_mean_squared_error: 2.9384 - val_loss: 9.5801 - val_root_mean_squared_error: 3.0952\n",
            "Epoch 76/200\n",
            "250/250 [==============================] - 0s 1ms/step - loss: 8.6821 - root_mean_squared_error: 2.9454 - val_loss: 9.3966 - val_root_mean_squared_error: 3.0654\n",
            "Epoch 77/200\n",
            "250/250 [==============================] - 0s 1ms/step - loss: 8.6308 - root_mean_squared_error: 2.9369 - val_loss: 9.2109 - val_root_mean_squared_error: 3.0350\n",
            "Epoch 78/200\n",
            "250/250 [==============================] - 0s 1ms/step - loss: 8.5267 - root_mean_squared_error: 2.9188 - val_loss: 9.0448 - val_root_mean_squared_error: 3.0075\n",
            "Epoch 79/200\n",
            "250/250 [==============================] - 0s 1ms/step - loss: 7.9948 - root_mean_squared_error: 2.8265 - val_loss: 8.8314 - val_root_mean_squared_error: 2.9718\n",
            "Epoch 80/200\n",
            "250/250 [==============================] - 0s 1ms/step - loss: 8.3941 - root_mean_squared_error: 2.8967 - val_loss: 8.7053 - val_root_mean_squared_error: 2.9505\n",
            "Epoch 81/200\n",
            "250/250 [==============================] - 0s 1ms/step - loss: 8.1675 - root_mean_squared_error: 2.8537 - val_loss: 8.5410 - val_root_mean_squared_error: 2.9225\n",
            "Epoch 82/200\n",
            "250/250 [==============================] - 0s 1ms/step - loss: 7.7391 - root_mean_squared_error: 2.7763 - val_loss: 8.4446 - val_root_mean_squared_error: 2.9060\n",
            "Epoch 83/200\n",
            "250/250 [==============================] - 0s 1ms/step - loss: 7.3295 - root_mean_squared_error: 2.7050 - val_loss: 8.1207 - val_root_mean_squared_error: 2.8497\n",
            "Epoch 84/200\n",
            "250/250 [==============================] - 0s 1ms/step - loss: 7.1240 - root_mean_squared_error: 2.6681 - val_loss: 7.9504 - val_root_mean_squared_error: 2.8196\n",
            "Epoch 85/200\n",
            "250/250 [==============================] - 0s 1ms/step - loss: 7.2083 - root_mean_squared_error: 2.6822 - val_loss: 7.7869 - val_root_mean_squared_error: 2.7905\n",
            "Epoch 86/200\n",
            "250/250 [==============================] - 0s 1ms/step - loss: 7.0389 - root_mean_squared_error: 2.6521 - val_loss: 7.5937 - val_root_mean_squared_error: 2.7557\n",
            "Epoch 87/200\n",
            "250/250 [==============================] - 0s 1ms/step - loss: 6.8412 - root_mean_squared_error: 2.6145 - val_loss: 7.4579 - val_root_mean_squared_error: 2.7309\n",
            "Epoch 88/200\n",
            "250/250 [==============================] - 0s 1ms/step - loss: 6.9087 - root_mean_squared_error: 2.6274 - val_loss: 7.2527 - val_root_mean_squared_error: 2.6931\n",
            "Epoch 89/200\n",
            "250/250 [==============================] - 0s 1ms/step - loss: 6.9956 - root_mean_squared_error: 2.6427 - val_loss: 7.0973 - val_root_mean_squared_error: 2.6641\n",
            "Epoch 90/200\n",
            "250/250 [==============================] - 0s 1ms/step - loss: 6.9713 - root_mean_squared_error: 2.6395 - val_loss: 6.9197 - val_root_mean_squared_error: 2.6305\n",
            "Epoch 91/200\n",
            "250/250 [==============================] - 0s 1ms/step - loss: 6.5874 - root_mean_squared_error: 2.5658 - val_loss: 6.7932 - val_root_mean_squared_error: 2.6064\n",
            "Epoch 92/200\n",
            "250/250 [==============================] - 0s 1ms/step - loss: 6.2777 - root_mean_squared_error: 2.5050 - val_loss: 6.6036 - val_root_mean_squared_error: 2.5697\n",
            "Epoch 93/200\n",
            "250/250 [==============================] - 0s 1ms/step - loss: 6.2995 - root_mean_squared_error: 2.5089 - val_loss: 6.4620 - val_root_mean_squared_error: 2.5420\n",
            "Epoch 94/200\n",
            "250/250 [==============================] - 0s 1ms/step - loss: 6.1812 - root_mean_squared_error: 2.4858 - val_loss: 6.3315 - val_root_mean_squared_error: 2.5162\n",
            "Epoch 95/200\n",
            "250/250 [==============================] - 0s 1ms/step - loss: 5.6762 - root_mean_squared_error: 2.3818 - val_loss: 6.1900 - val_root_mean_squared_error: 2.4880\n",
            "Epoch 96/200\n",
            "250/250 [==============================] - 0s 1ms/step - loss: 5.9134 - root_mean_squared_error: 2.4295 - val_loss: 6.0280 - val_root_mean_squared_error: 2.4552\n",
            "Epoch 97/200\n",
            "250/250 [==============================] - 0s 1ms/step - loss: 5.6949 - root_mean_squared_error: 2.3857 - val_loss: 5.9490 - val_root_mean_squared_error: 2.4391\n",
            "Epoch 98/200\n",
            "250/250 [==============================] - 0s 1ms/step - loss: 5.5318 - root_mean_squared_error: 2.3510 - val_loss: 5.7520 - val_root_mean_squared_error: 2.3983\n",
            "Epoch 99/200\n",
            "250/250 [==============================] - 0s 1ms/step - loss: 5.8173 - root_mean_squared_error: 2.4102 - val_loss: 5.6874 - val_root_mean_squared_error: 2.3848\n",
            "Epoch 100/200\n",
            "250/250 [==============================] - 0s 1ms/step - loss: 5.1910 - root_mean_squared_error: 2.2775 - val_loss: 5.5583 - val_root_mean_squared_error: 2.3576\n",
            "Epoch 101/200\n",
            "250/250 [==============================] - 0s 1ms/step - loss: 5.4763 - root_mean_squared_error: 2.3386 - val_loss: 5.4268 - val_root_mean_squared_error: 2.3296\n",
            "Epoch 102/200\n",
            "250/250 [==============================] - 0s 1ms/step - loss: 4.9711 - root_mean_squared_error: 2.2286 - val_loss: 5.3965 - val_root_mean_squared_error: 2.3230\n",
            "Epoch 103/200\n",
            "250/250 [==============================] - 0s 1ms/step - loss: 4.9666 - root_mean_squared_error: 2.2275 - val_loss: 5.2250 - val_root_mean_squared_error: 2.2858\n",
            "Epoch 104/200\n",
            "250/250 [==============================] - 0s 2ms/step - loss: 5.0011 - root_mean_squared_error: 2.2358 - val_loss: 5.0949 - val_root_mean_squared_error: 2.2572\n",
            "Epoch 105/200\n",
            "250/250 [==============================] - 0s 1ms/step - loss: 4.6746 - root_mean_squared_error: 2.1615 - val_loss: 5.0062 - val_root_mean_squared_error: 2.2374\n",
            "Epoch 106/200\n",
            "250/250 [==============================] - 0s 1ms/step - loss: 4.9567 - root_mean_squared_error: 2.2252 - val_loss: 4.9540 - val_root_mean_squared_error: 2.2258\n",
            "Epoch 107/200\n",
            "250/250 [==============================] - 0s 1ms/step - loss: 4.7510 - root_mean_squared_error: 2.1787 - val_loss: 4.8586 - val_root_mean_squared_error: 2.2042\n",
            "Epoch 108/200\n",
            "250/250 [==============================] - 0s 1ms/step - loss: 4.5717 - root_mean_squared_error: 2.1375 - val_loss: 4.8109 - val_root_mean_squared_error: 2.1934\n",
            "Epoch 109/200\n",
            "250/250 [==============================] - 0s 1ms/step - loss: 4.7178 - root_mean_squared_error: 2.1703 - val_loss: 4.7304 - val_root_mean_squared_error: 2.1750\n",
            "Epoch 110/200\n",
            "250/250 [==============================] - 0s 1ms/step - loss: 4.5182 - root_mean_squared_error: 2.1248 - val_loss: 4.6421 - val_root_mean_squared_error: 2.1545\n",
            "Epoch 111/200\n",
            "250/250 [==============================] - 0s 1ms/step - loss: 4.3777 - root_mean_squared_error: 2.0913 - val_loss: 4.6630 - val_root_mean_squared_error: 2.1594\n",
            "Epoch 112/200\n",
            "250/250 [==============================] - 0s 1ms/step - loss: 4.2823 - root_mean_squared_error: 2.0685 - val_loss: 4.5613 - val_root_mean_squared_error: 2.1357\n",
            "Epoch 113/200\n",
            "250/250 [==============================] - 0s 1ms/step - loss: 4.1816 - root_mean_squared_error: 2.0432 - val_loss: 4.4839 - val_root_mean_squared_error: 2.1175\n",
            "Epoch 114/200\n",
            "250/250 [==============================] - 0s 1ms/step - loss: 4.2699 - root_mean_squared_error: 2.0654 - val_loss: 4.4304 - val_root_mean_squared_error: 2.1049\n",
            "Epoch 115/200\n",
            "250/250 [==============================] - 0s 1ms/step - loss: 4.1603 - root_mean_squared_error: 2.0386 - val_loss: 4.4206 - val_root_mean_squared_error: 2.1025\n",
            "Epoch 116/200\n",
            "250/250 [==============================] - 0s 1ms/step - loss: 4.1655 - root_mean_squared_error: 2.0390 - val_loss: 4.3497 - val_root_mean_squared_error: 2.0856\n",
            "Epoch 117/200\n",
            "250/250 [==============================] - 0s 1ms/step - loss: 4.1252 - root_mean_squared_error: 2.0295 - val_loss: 4.3708 - val_root_mean_squared_error: 2.0906\n",
            "Epoch 118/200\n",
            "250/250 [==============================] - 0s 1ms/step - loss: 4.1454 - root_mean_squared_error: 2.0347 - val_loss: 4.2931 - val_root_mean_squared_error: 2.0720\n",
            "Epoch 119/200\n",
            "250/250 [==============================] - 0s 1ms/step - loss: 4.0560 - root_mean_squared_error: 2.0125 - val_loss: 4.2837 - val_root_mean_squared_error: 2.0697\n",
            "Epoch 120/200\n",
            "250/250 [==============================] - 0s 1ms/step - loss: 3.9625 - root_mean_squared_error: 1.9889 - val_loss: 4.2743 - val_root_mean_squared_error: 2.0674\n",
            "Epoch 121/200\n",
            "250/250 [==============================] - 0s 1ms/step - loss: 3.8831 - root_mean_squared_error: 1.9700 - val_loss: 4.2478 - val_root_mean_squared_error: 2.0610\n",
            "Epoch 122/200\n",
            "250/250 [==============================] - 0s 1ms/step - loss: 3.7791 - root_mean_squared_error: 1.9436 - val_loss: 4.2050 - val_root_mean_squared_error: 2.0506\n",
            "Epoch 123/200\n",
            "250/250 [==============================] - 0s 1ms/step - loss: 3.7794 - root_mean_squared_error: 1.9426 - val_loss: 4.1913 - val_root_mean_squared_error: 2.0473\n",
            "Epoch 124/200\n",
            "250/250 [==============================] - 0s 1ms/step - loss: 3.9650 - root_mean_squared_error: 1.9890 - val_loss: 4.1902 - val_root_mean_squared_error: 2.0470\n",
            "Epoch 125/200\n",
            "250/250 [==============================] - 0s 1ms/step - loss: 4.2150 - root_mean_squared_error: 2.0504 - val_loss: 4.1888 - val_root_mean_squared_error: 2.0466\n",
            "Epoch 126/200\n",
            "250/250 [==============================] - 0s 1ms/step - loss: 3.7933 - root_mean_squared_error: 1.9471 - val_loss: 4.1710 - val_root_mean_squared_error: 2.0423\n",
            "Epoch 127/200\n",
            "250/250 [==============================] - 0s 1ms/step - loss: 3.7730 - root_mean_squared_error: 1.9415 - val_loss: 4.1556 - val_root_mean_squared_error: 2.0385\n",
            "Epoch 128/200\n",
            "250/250 [==============================] - 0s 1ms/step - loss: 3.9674 - root_mean_squared_error: 1.9907 - val_loss: 4.1169 - val_root_mean_squared_error: 2.0290\n",
            "Epoch 129/200\n",
            "250/250 [==============================] - 0s 1ms/step - loss: 3.8836 - root_mean_squared_error: 1.9695 - val_loss: 4.0931 - val_root_mean_squared_error: 2.0231\n",
            "Epoch 130/200\n",
            "250/250 [==============================] - 0s 1ms/step - loss: 3.6612 - root_mean_squared_error: 1.9123 - val_loss: 4.0901 - val_root_mean_squared_error: 2.0224\n",
            "Epoch 131/200\n",
            "250/250 [==============================] - 0s 1ms/step - loss: 3.9150 - root_mean_squared_error: 1.9777 - val_loss: 4.1141 - val_root_mean_squared_error: 2.0283\n",
            "Epoch 132/200\n",
            "250/250 [==============================] - 0s 1ms/step - loss: 3.7307 - root_mean_squared_error: 1.9312 - val_loss: 4.1085 - val_root_mean_squared_error: 2.0270\n",
            "Epoch 133/200\n",
            "250/250 [==============================] - 0s 1ms/step - loss: 3.4651 - root_mean_squared_error: 1.8602 - val_loss: 4.2151 - val_root_mean_squared_error: 2.0531\n",
            "Epoch 134/200\n",
            "250/250 [==============================] - 0s 1ms/step - loss: 3.8192 - root_mean_squared_error: 1.9524 - val_loss: 4.1074 - val_root_mean_squared_error: 2.0267\n",
            "Epoch 135/200\n",
            "250/250 [==============================] - 0s 1ms/step - loss: 3.5436 - root_mean_squared_error: 1.8812 - val_loss: 4.0745 - val_root_mean_squared_error: 2.0185\n",
            "Epoch 136/200\n",
            "250/250 [==============================] - 0s 1ms/step - loss: 3.6346 - root_mean_squared_error: 1.9061 - val_loss: 4.1272 - val_root_mean_squared_error: 2.0316\n",
            "Epoch 137/200\n",
            "250/250 [==============================] - 0s 1ms/step - loss: 3.6567 - root_mean_squared_error: 1.9119 - val_loss: 4.0558 - val_root_mean_squared_error: 2.0139\n",
            "Epoch 138/200\n",
            "250/250 [==============================] - 0s 1ms/step - loss: 3.7577 - root_mean_squared_error: 1.9361 - val_loss: 4.0682 - val_root_mean_squared_error: 2.0170\n",
            "Epoch 139/200\n",
            "250/250 [==============================] - 0s 1ms/step - loss: 3.8344 - root_mean_squared_error: 1.9570 - val_loss: 4.0897 - val_root_mean_squared_error: 2.0223\n",
            "Epoch 140/200\n",
            "250/250 [==============================] - 0s 1ms/step - loss: 3.5847 - root_mean_squared_error: 1.8923 - val_loss: 4.1116 - val_root_mean_squared_error: 2.0277\n",
            "Epoch 141/200\n",
            "250/250 [==============================] - 0s 1ms/step - loss: 3.7241 - root_mean_squared_error: 1.9277 - val_loss: 4.0531 - val_root_mean_squared_error: 2.0132\n",
            "Epoch 142/200\n",
            "250/250 [==============================] - 0s 1ms/step - loss: 3.8207 - root_mean_squared_error: 1.9536 - val_loss: 4.0476 - val_root_mean_squared_error: 2.0119\n",
            "Epoch 143/200\n",
            "250/250 [==============================] - 0s 1ms/step - loss: 3.6480 - root_mean_squared_error: 1.9089 - val_loss: 4.0576 - val_root_mean_squared_error: 2.0143\n",
            "Epoch 144/200\n",
            "250/250 [==============================] - 0s 1ms/step - loss: 3.5672 - root_mean_squared_error: 1.8882 - val_loss: 4.0482 - val_root_mean_squared_error: 2.0120\n",
            "Epoch 145/200\n",
            "250/250 [==============================] - 0s 1ms/step - loss: 3.7231 - root_mean_squared_error: 1.9292 - val_loss: 4.0558 - val_root_mean_squared_error: 2.0139\n",
            "Epoch 146/200\n",
            "250/250 [==============================] - 0s 1ms/step - loss: 3.5725 - root_mean_squared_error: 1.8900 - val_loss: 4.0569 - val_root_mean_squared_error: 2.0142\n",
            "Epoch 147/200\n",
            "250/250 [==============================] - 0s 1ms/step - loss: 3.8285 - root_mean_squared_error: 1.9559 - val_loss: 4.0506 - val_root_mean_squared_error: 2.0126\n",
            "Epoch 148/200\n",
            "250/250 [==============================] - 0s 2ms/step - loss: 3.4638 - root_mean_squared_error: 1.8600 - val_loss: 4.0622 - val_root_mean_squared_error: 2.0155\n",
            "Epoch 149/200\n",
            "250/250 [==============================] - 0s 1ms/step - loss: 3.6459 - root_mean_squared_error: 1.9089 - val_loss: 4.0446 - val_root_mean_squared_error: 2.0111\n",
            "Epoch 150/200\n",
            "250/250 [==============================] - 0s 1ms/step - loss: 3.5248 - root_mean_squared_error: 1.8761 - val_loss: 4.0902 - val_root_mean_squared_error: 2.0224\n",
            "Epoch 151/200\n",
            "250/250 [==============================] - 0s 1ms/step - loss: 3.8518 - root_mean_squared_error: 1.9620 - val_loss: 4.0576 - val_root_mean_squared_error: 2.0143\n",
            "Epoch 152/200\n",
            "250/250 [==============================] - 0s 1ms/step - loss: 3.3951 - root_mean_squared_error: 1.8416 - val_loss: 4.0494 - val_root_mean_squared_error: 2.0123\n",
            "Epoch 153/200\n",
            "250/250 [==============================] - 0s 1ms/step - loss: 3.6084 - root_mean_squared_error: 1.8981 - val_loss: 4.0656 - val_root_mean_squared_error: 2.0163\n",
            "Epoch 154/200\n",
            "250/250 [==============================] - 0s 1ms/step - loss: 3.6478 - root_mean_squared_error: 1.9085 - val_loss: 4.0449 - val_root_mean_squared_error: 2.0112\n",
            "Epoch 155/200\n",
            "250/250 [==============================] - 0s 1ms/step - loss: 3.6527 - root_mean_squared_error: 1.9107 - val_loss: 4.0464 - val_root_mean_squared_error: 2.0116\n",
            "Epoch 156/200\n",
            "250/250 [==============================] - 0s 1ms/step - loss: 3.7203 - root_mean_squared_error: 1.9284 - val_loss: 4.0693 - val_root_mean_squared_error: 2.0172\n",
            "Epoch 157/200\n",
            "250/250 [==============================] - 0s 1ms/step - loss: 3.5823 - root_mean_squared_error: 1.8917 - val_loss: 4.0446 - val_root_mean_squared_error: 2.0111\n",
            "Epoch 158/200\n",
            "250/250 [==============================] - 0s 1ms/step - loss: 3.7532 - root_mean_squared_error: 1.9367 - val_loss: 4.0425 - val_root_mean_squared_error: 2.0106\n",
            "Epoch 159/200\n",
            "250/250 [==============================] - 0s 1ms/step - loss: 3.7119 - root_mean_squared_error: 1.9261 - val_loss: 4.1142 - val_root_mean_squared_error: 2.0283\n",
            "Epoch 160/200\n",
            "250/250 [==============================] - 0s 1ms/step - loss: 3.6674 - root_mean_squared_error: 1.9128 - val_loss: 4.0400 - val_root_mean_squared_error: 2.0100\n",
            "Epoch 161/200\n",
            "250/250 [==============================] - 0s 1ms/step - loss: 3.5314 - root_mean_squared_error: 1.8788 - val_loss: 4.0904 - val_root_mean_squared_error: 2.0225\n",
            "Epoch 162/200\n",
            "250/250 [==============================] - 0s 1ms/step - loss: 3.6432 - root_mean_squared_error: 1.9075 - val_loss: 4.0427 - val_root_mean_squared_error: 2.0106\n",
            "Epoch 163/200\n",
            "250/250 [==============================] - 0s 1ms/step - loss: 3.5787 - root_mean_squared_error: 1.8913 - val_loss: 4.0401 - val_root_mean_squared_error: 2.0100\n",
            "Epoch 164/200\n",
            "250/250 [==============================] - 0s 1ms/step - loss: 3.5293 - root_mean_squared_error: 1.8766 - val_loss: 4.0594 - val_root_mean_squared_error: 2.0148\n",
            "Epoch 165/200\n",
            "250/250 [==============================] - 0s 1ms/step - loss: 3.7361 - root_mean_squared_error: 1.9309 - val_loss: 4.0426 - val_root_mean_squared_error: 2.0106\n",
            "Epoch 166/200\n",
            "250/250 [==============================] - 0s 1ms/step - loss: 3.7152 - root_mean_squared_error: 1.9272 - val_loss: 4.0450 - val_root_mean_squared_error: 2.0112\n",
            "Epoch 167/200\n",
            "250/250 [==============================] - 0s 1ms/step - loss: 3.7009 - root_mean_squared_error: 1.9223 - val_loss: 4.0390 - val_root_mean_squared_error: 2.0097\n",
            "Epoch 168/200\n",
            "250/250 [==============================] - 0s 1ms/step - loss: 3.7075 - root_mean_squared_error: 1.9246 - val_loss: 4.0554 - val_root_mean_squared_error: 2.0138\n",
            "Epoch 169/200\n",
            "250/250 [==============================] - 0s 1ms/step - loss: 3.6719 - root_mean_squared_error: 1.9154 - val_loss: 4.0392 - val_root_mean_squared_error: 2.0098\n",
            "Epoch 170/200\n",
            "250/250 [==============================] - 0s 1ms/step - loss: 3.4622 - root_mean_squared_error: 1.8597 - val_loss: 4.0418 - val_root_mean_squared_error: 2.0104\n",
            "Epoch 171/200\n",
            "250/250 [==============================] - 0s 1ms/step - loss: 3.6061 - root_mean_squared_error: 1.8981 - val_loss: 4.1168 - val_root_mean_squared_error: 2.0290\n",
            "Epoch 172/200\n",
            "250/250 [==============================] - 0s 1ms/step - loss: 3.6341 - root_mean_squared_error: 1.9061 - val_loss: 4.0718 - val_root_mean_squared_error: 2.0179\n",
            "Epoch 173/200\n",
            "250/250 [==============================] - 0s 1ms/step - loss: 3.5027 - root_mean_squared_error: 1.8704 - val_loss: 4.0397 - val_root_mean_squared_error: 2.0099\n",
            "Epoch 174/200\n",
            "250/250 [==============================] - 0s 1ms/step - loss: 3.6368 - root_mean_squared_error: 1.9069 - val_loss: 4.0767 - val_root_mean_squared_error: 2.0191\n",
            "Epoch 175/200\n",
            "250/250 [==============================] - 0s 1ms/step - loss: 3.5180 - root_mean_squared_error: 1.8749 - val_loss: 4.0929 - val_root_mean_squared_error: 2.0231\n",
            "Epoch 176/200\n",
            "250/250 [==============================] - 0s 1ms/step - loss: 3.5837 - root_mean_squared_error: 1.8923 - val_loss: 4.0396 - val_root_mean_squared_error: 2.0099\n",
            "Epoch 177/200\n",
            "250/250 [==============================] - 0s 1ms/step - loss: 3.8580 - root_mean_squared_error: 1.9631 - val_loss: 4.0375 - val_root_mean_squared_error: 2.0094\n",
            "Epoch 178/200\n",
            "250/250 [==============================] - 0s 1ms/step - loss: 3.6697 - root_mean_squared_error: 1.9153 - val_loss: 4.0473 - val_root_mean_squared_error: 2.0118\n",
            "Epoch 179/200\n",
            "250/250 [==============================] - 0s 1ms/step - loss: 3.4522 - root_mean_squared_error: 1.8573 - val_loss: 4.0774 - val_root_mean_squared_error: 2.0193\n",
            "Epoch 180/200\n",
            "250/250 [==============================] - 0s 1ms/step - loss: 3.5933 - root_mean_squared_error: 1.8936 - val_loss: 4.0363 - val_root_mean_squared_error: 2.0091\n",
            "Epoch 181/200\n",
            "250/250 [==============================] - 0s 1ms/step - loss: 3.8403 - root_mean_squared_error: 1.9580 - val_loss: 4.0622 - val_root_mean_squared_error: 2.0155\n",
            "Epoch 182/200\n",
            "250/250 [==============================] - 0s 1ms/step - loss: 3.5347 - root_mean_squared_error: 1.8796 - val_loss: 4.0406 - val_root_mean_squared_error: 2.0101\n",
            "Epoch 183/200\n",
            "250/250 [==============================] - 0s 1ms/step - loss: 3.6112 - root_mean_squared_error: 1.8990 - val_loss: 4.0361 - val_root_mean_squared_error: 2.0090\n",
            "Epoch 184/200\n",
            "250/250 [==============================] - 0s 1ms/step - loss: 3.6825 - root_mean_squared_error: 1.9186 - val_loss: 4.0603 - val_root_mean_squared_error: 2.0150\n",
            "Epoch 185/200\n",
            "250/250 [==============================] - 0s 1ms/step - loss: 3.6940 - root_mean_squared_error: 1.9216 - val_loss: 4.0376 - val_root_mean_squared_error: 2.0094\n",
            "Epoch 186/200\n",
            "250/250 [==============================] - 0s 1ms/step - loss: 3.6037 - root_mean_squared_error: 1.8979 - val_loss: 4.0440 - val_root_mean_squared_error: 2.0110\n",
            "Epoch 187/200\n",
            "250/250 [==============================] - 0s 1ms/step - loss: 3.7218 - root_mean_squared_error: 1.9289 - val_loss: 4.0489 - val_root_mean_squared_error: 2.0122\n",
            "Epoch 188/200\n",
            "250/250 [==============================] - 0s 1ms/step - loss: 3.5639 - root_mean_squared_error: 1.8873 - val_loss: 4.0658 - val_root_mean_squared_error: 2.0164\n",
            "Epoch 189/200\n",
            "250/250 [==============================] - 0s 2ms/step - loss: 3.5584 - root_mean_squared_error: 1.8859 - val_loss: 4.0378 - val_root_mean_squared_error: 2.0094\n",
            "Epoch 190/200\n",
            "250/250 [==============================] - 0s 1ms/step - loss: 3.5713 - root_mean_squared_error: 1.8886 - val_loss: 4.0898 - val_root_mean_squared_error: 2.0223\n",
            "Epoch 191/200\n",
            "250/250 [==============================] - 0s 1ms/step - loss: 3.5762 - root_mean_squared_error: 1.8902 - val_loss: 4.0386 - val_root_mean_squared_error: 2.0096\n",
            "Epoch 192/200\n",
            "250/250 [==============================] - 0s 1ms/step - loss: 3.8039 - root_mean_squared_error: 1.9499 - val_loss: 4.0358 - val_root_mean_squared_error: 2.0089\n",
            "Epoch 193/200\n",
            "250/250 [==============================] - 0s 1ms/step - loss: 3.5935 - root_mean_squared_error: 1.8951 - val_loss: 4.0582 - val_root_mean_squared_error: 2.0145\n",
            "Epoch 194/200\n",
            "250/250 [==============================] - 0s 1ms/step - loss: 3.6034 - root_mean_squared_error: 1.8978 - val_loss: 4.0400 - val_root_mean_squared_error: 2.0100\n",
            "Epoch 195/200\n",
            "250/250 [==============================] - 0s 1ms/step - loss: 3.7118 - root_mean_squared_error: 1.9260 - val_loss: 4.0377 - val_root_mean_squared_error: 2.0094\n",
            "Epoch 196/200\n",
            "250/250 [==============================] - 0s 1ms/step - loss: 3.5898 - root_mean_squared_error: 1.8928 - val_loss: 4.0425 - val_root_mean_squared_error: 2.0106\n",
            "Epoch 197/200\n",
            "250/250 [==============================] - 0s 1ms/step - loss: 3.6700 - root_mean_squared_error: 1.9151 - val_loss: 4.0478 - val_root_mean_squared_error: 2.0119\n",
            "Epoch 198/200\n",
            "250/250 [==============================] - 0s 1ms/step - loss: 3.6885 - root_mean_squared_error: 1.9204 - val_loss: 4.0555 - val_root_mean_squared_error: 2.0138\n",
            "Epoch 199/200\n",
            "250/250 [==============================] - 0s 1ms/step - loss: 3.6186 - root_mean_squared_error: 1.9019 - val_loss: 4.0698 - val_root_mean_squared_error: 2.0174\n",
            "Epoch 200/200\n",
            "250/250 [==============================] - 0s 1ms/step - loss: 3.7653 - root_mean_squared_error: 1.9396 - val_loss: 4.0515 - val_root_mean_squared_error: 2.0128\n"
          ],
          "name": "stdout"
        }
      ]
    },
    {
      "cell_type": "code",
      "metadata": {
        "colab": {
          "base_uri": "https://localhost:8080/",
          "height": 282
        },
        "id": "Y9scGP12ltxF",
        "outputId": "d6bc31d9-80c0-44a6-dd23-1f75c82975a4"
      },
      "source": [
        "plt.plot(history.history['root_mean_squared_error'], label = \"Training Loss\")\n",
        "plt.plot(history.history['val_root_mean_squared_error'], label = \"Validation Loss\")\n",
        "plt.legend()"
      ],
      "execution_count": null,
      "outputs": [
        {
          "output_type": "execute_result",
          "data": {
            "text/plain": [
              "<matplotlib.legend.Legend at 0x7f2c2ba0f518>"
            ]
          },
          "metadata": {
            "tags": []
          },
          "execution_count": 11
        },
        {
          "output_type": "display_data",
          "data": {
            "image/png": "[encoded data removed]",
            "text/plain": [
              "<Figure size 432x288 with 1 Axes>"
            ]
          },
          "metadata": {
            "tags": [],
            "needs_background": "light"
          }
        }
      ]
    },
    {
      "cell_type": "code",
      "metadata": {
        "colab": {
          "base_uri": "https://localhost:8080/"
        },
        "id": "IGib8BUjltxJ",
        "outputId": "ac274778-c1e6-4ee8-ddf3-f5c06206832f"
      },
      "source": [
        "reg_model.evaluate(X_test, y_test)"
      ],
      "execution_count": null,
      "outputs": [
        {
          "output_type": "stream",
          "text": [
            "16/16 [==============================] - 0s 1ms/step - loss: 4.0515 - root_mean_squared_error: 2.0128\n"
          ],
          "name": "stdout"
        },
        {
          "output_type": "execute_result",
          "data": {
            "text/plain": [
              "[4.051457405090332, 2.0128233432769775]"
            ]
          },
          "metadata": {
            "tags": []
          },
          "execution_count": 12
        }
      ]
    },
    {
      "cell_type": "code",
      "metadata": {
        "colab": {
          "base_uri": "https://localhost:8080/"
        },
        "id": "r4cVtwMzltxQ",
        "outputId": "bdd2fe1c-740d-4df4-cba2-7e2acf44e84a"
      },
      "source": [
        "from sklearn.metrics import r2_score\n",
        "y_hat_test = reg_model.predict(X_test)\n",
        "print('{:.2f}'.format(r2_score(y_test, y_hat_test)))"
      ],
      "execution_count": null,
      "outputs": [
        {
          "output_type": "stream",
          "text": [
            "0.95\n"
          ],
          "name": "stdout"
        }
      ]
    }
  ]
}