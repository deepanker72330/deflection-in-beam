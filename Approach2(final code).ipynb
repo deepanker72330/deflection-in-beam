{
  "nbformat": 4,
  "nbformat_minor": 0,
  "metadata": {
    "colab": {
      "name": "DLPS_Project_Deflection in beams",
      "provenance": []
    },
    "kernelspec": {
      "name": "python3",
      "display_name": "Python 3"
    }
  },
  "cells": [
    {
      "cell_type": "code",
      "metadata": {
        "id": "8Os8oIAGiuik"
      },
      "source": [
        "import numpy as np\r\n",
        "import pandas as pd\r\n",
        "from random import random\r\n",
        "import matplotlib.pyplot as plt\r\n",
        "from sklearn.linear_model import LinearRegression\r\n",
        "from sklearn.preprocessing import PolynomialFeatures"
      ],
      "execution_count": 76,
      "outputs": []
    },
    {
      "cell_type": "code",
      "metadata": {
        "colab": {
          "base_uri": "https://localhost:8080/"
        },
        "id": "wLYHccVqGEZr",
        "outputId": "675bc37c-e52b-47c3-929d-ad1516dc8b34"
      },
      "source": [
        "nod= 1000\r\n",
        "I = 0.003125                # Moment of Inertia (in m^4)\r\n",
        "E = 203 * (10**9)           # Young's modulus of material\r\n",
        "print(\"Enter the magnitude of force applied on the beam (in Newton): \")\r\n",
        "F= float(input())             # Force on the beam\r\n",
        "print(\"Enter the length of the beam(in metres): \")\r\n",
        "L= float(input())"
      ],
      "execution_count": 133,
      "outputs": [
        {
          "output_type": "stream",
          "text": [
            "Enter the magnitude of force applied on the beam (in Newton): \n",
            "25500\n",
            "Enter the length of the beam(in metres): \n",
            "2.5\n"
          ],
          "name": "stdout"
        }
      ]
    },
    {
      "cell_type": "code",
      "metadata": {
        "id": "sa2qPOpuGQO-"
      },
      "source": [
        "def diff(a,b):\r\n",
        "    if(a<=b):\r\n",
        "        return 0\r\n",
        "    else:\r\n",
        "        return (a-b)"
      ],
      "execution_count": 134,
      "outputs": []
    },
    {
      "cell_type": "code",
      "metadata": {
        "id": "PIQSXfqyjl6Z"
      },
      "source": [
        "def evaluate(a,b):\r\n",
        "    l= ((a**2)*b)/2\r\n",
        "    m= (a**(3))/6\r\n",
        "    return (l-m)"
      ],
      "execution_count": 135,
      "outputs": []
    },
    {
      "cell_type": "code",
      "metadata": {
        "id": "9MX35bcnGYdi"
      },
      "source": [
        "def net_deflection(a,b):\r\n",
        "    x= evaluate(a,b) + ((diff(a,b)**3)/6)\r\n",
        "    x= (-F/(E*I))*x\r\n",
        "    return x"
      ],
      "execution_count": 136,
      "outputs": []
    },
    {
      "cell_type": "code",
      "metadata": {
        "id": "lIDXg6vPhSGJ"
      },
      "source": [
        "def find_min_tens(max):\r\n",
        "  if(max<=1):\r\n",
        "    return 1\r\n",
        "    \r\n",
        "  for i in range(1,100):\r\n",
        "    if((10*i)>=max):\r\n",
        "      return (10*i)\r\n",
        "    "
      ],
      "execution_count": 137,
      "outputs": []
    },
    {
      "cell_type": "markdown",
      "metadata": {
        "id": "CqIGYV1mGppx"
      },
      "source": [
        "## **Neural Network**"
      ]
    },
    {
      "cell_type": "code",
      "metadata": {
        "id": "g2YGCvqeHE10"
      },
      "source": [
        "class Neural_Network(object):\r\n",
        "\r\n",
        "    def __init__(self, num_inputs=3, hidden_layers=[3, 3], num_outputs=2):\r\n",
        "\r\n",
        "        self.num_inputs = num_inputs\r\n",
        "        self.hidden_layers = hidden_layers\r\n",
        "        self.num_outputs = num_outputs\r\n",
        "\r\n",
        "        # create a generic representation of the layers\r\n",
        "        layers = [num_inputs] + hidden_layers + [num_outputs]\r\n",
        "\r\n",
        "        # create random connection weights for the layers\r\n",
        "        weights = []\r\n",
        "        for i in range(len(layers) - 1):\r\n",
        "            w = np.random.rand(layers[i], layers[i + 1])\r\n",
        "            weights.append(w)\r\n",
        "        self.weights = weights\r\n",
        "\r\n",
        "        # save derivatives per layer\r\n",
        "        derivatives = []\r\n",
        "        for i in range(len(layers) - 1):\r\n",
        "            d = np.zeros((layers[i], layers[i + 1]))\r\n",
        "            derivatives.append(d)\r\n",
        "        self.derivatives = derivatives\r\n",
        "\r\n",
        "        # save activations per layer\r\n",
        "        activations = []\r\n",
        "        for i in range(len(layers)):\r\n",
        "            a = np.zeros(layers[i])\r\n",
        "            activations.append(a)\r\n",
        "        self.activations = activations\r\n",
        "\r\n",
        "\r\n",
        "    def forward_propagate(self, inputs):\r\n",
        "\r\n",
        "        # the input layer activation is just the input itself\r\n",
        "        activations = inputs\r\n",
        "\r\n",
        "        # save the activations for backpropogation\r\n",
        "        self.activations[0] = activations\r\n",
        "\r\n",
        "        # iterate through the network layers\r\n",
        "        for i, w in enumerate(self.weights):\r\n",
        "            # calculate matrix multiplication between previous activation and weight matrix\r\n",
        "            net_inputs = np.dot(activations, w)\r\n",
        "\r\n",
        "            # apply sigmoid activation function\r\n",
        "            activations = self._sigmoid(net_inputs)\r\n",
        "\r\n",
        "            # save the activations for backpropogation\r\n",
        "            self.activations[i + 1] = activations\r\n",
        "\r\n",
        "        # return output layer activation\r\n",
        "        return activations\r\n",
        "\r\n",
        "\r\n",
        "    def back_propagate(self, error):\r\n",
        "\r\n",
        "        # iterate backwards through the network layers\r\n",
        "        for i in reversed(range(len(self.derivatives))):\r\n",
        "\r\n",
        "            # get activation for previous layer\r\n",
        "            activations = self.activations[i+1]\r\n",
        "\r\n",
        "            # apply sigmoid derivative function\r\n",
        "            delta = error * self._sigmoid_derivative(activations)\r\n",
        "\r\n",
        "            # reshape delta as to have it as a 2d array\r\n",
        "            delta_re = delta.reshape(delta.shape[0], -1).T\r\n",
        "\r\n",
        "            # get activations for current layer\r\n",
        "            current_activations = self.activations[i]\r\n",
        "\r\n",
        "            # reshape activations as to have them as a 2d column matrix\r\n",
        "            current_activations = current_activations.reshape(current_activations.shape[0],-1)\r\n",
        "\r\n",
        "            # save derivative after applying matrix multiplication\r\n",
        "            self.derivatives[i] = np.dot(current_activations, delta_re)\r\n",
        "\r\n",
        "            # backpropogate the next error\r\n",
        "            error = np.dot(delta, self.weights[i].T)\r\n",
        "\r\n",
        "\r\n",
        "    def train(self, inputs, targets, epochs, learning_rate):\r\n",
        "        \r\n",
        "        # now enter the training loop\r\n",
        "        for i in range(epochs):\r\n",
        "            sum_errors = 0\r\n",
        "\r\n",
        "            # iterate through all the training data\r\n",
        "            for j, inputt in enumerate(inputs):\r\n",
        "                target = targets[j]\r\n",
        "\r\n",
        "                # activate the network!\r\n",
        "                output = self.forward_propagate(inputt)\r\n",
        "\r\n",
        "                error = target - output\r\n",
        "\r\n",
        "                self.back_propagate(error)\r\n",
        "\r\n",
        "                # now perform gradient descent on the derivatives\r\n",
        "                # (this will update the weights\r\n",
        "                self.gradient_descent(learning_rate)\r\n",
        "\r\n",
        "                # keep track of the MSE for reporting later\r\n",
        "                sum_errors += self._mse(target, output)\r\n",
        "\r\n",
        "\r\n",
        "        print(\"Training complete!\")\r\n",
        "        print(\"=====\")\r\n",
        "        return sum_errors\r\n",
        "\r\n",
        "    def gradient_descent(self, learningRate=1):\r\n",
        "    \r\n",
        "        # update the weights by stepping down the gradient\r\n",
        "        for i in range(len(self.weights)):\r\n",
        "            weights = self.weights[i]\r\n",
        "            derivatives = self.derivatives[i]\r\n",
        "            weights += derivatives * learningRate\r\n",
        "\r\n",
        "    # tanh function\r\n",
        "    def tanh(self, x):\r\n",
        "        return ((2/(1+np.exp(-2*x)))-1)\r\n",
        "\r\n",
        "    # derivative of tanh function\r\n",
        "    def tanh_derivative(self, x):\r\n",
        "        return (1-(x**2))\r\n",
        "\r\n",
        "    def _sigmoid(self, x):\r\n",
        "        y = 1.0 / (1 + np.exp(-x))\r\n",
        "        return y\r\n",
        "\r\n",
        "\r\n",
        "    def _sigmoid_derivative(self, x):\r\n",
        "        return x * (1.0 - x)\r\n",
        "\r\n",
        "\r\n",
        "    def _mse(self, target, output):\r\n",
        "        return np.average((target - output) ** 2)"
      ],
      "execution_count": 138,
      "outputs": []
    },
    {
      "cell_type": "code",
      "metadata": {
        "colab": {
          "base_uri": "https://localhost:8080/"
        },
        "id": "WbrFlgJvHOn_",
        "outputId": "bf786f6d-0b92-4ce0-ae89-eb43bcd444f5"
      },
      "source": [
        "if __name__ == \"__main__\":\r\n",
        "\r\n",
        "    # create a dataset to train a network for the difference operation\r\n",
        "    items = np.array([[random()/2 for _ in range(2)] for _ in range(nod)])\r\n",
        "    \r\n",
        "    difference = np.array([[diff(i[0] , i[1])] for i in items])\r\n",
        "    \r\n",
        "    # NN with one hidden layer and 18 nodes\r\n",
        "    mlp = Neural_Network(2, [18], 1)\r\n",
        "    \r\n",
        "    # training the network\r\n",
        "    mse= mlp.train(items, difference, 150, 0.1)\r\n",
        "    print(\"MSE= \",mse)"
      ],
      "execution_count": 139,
      "outputs": [
        {
          "output_type": "stream",
          "text": [
            "Training complete!\n",
            "=====\n",
            "MSE=  0.6142863805714504\n"
          ],
          "name": "stdout"
        }
      ]
    },
    {
      "cell_type": "markdown",
      "metadata": {
        "id": "p4RiVywvH7zH"
      },
      "source": [
        "# **Polynomial Regression**"
      ]
    },
    {
      "cell_type": "code",
      "metadata": {
        "id": "0EGi_YR7IQoy"
      },
      "source": [
        "def polynomial_regression(distx,y):\r\n",
        "    dist_x = np.linspace(0.0001,1,100)\r\n",
        "    deflection = []\r\n",
        "    for i in range(100):\r\n",
        "        deflection.append(evaluate(dist_x[i],y))\r\n",
        "    \r\n",
        "    deflection = np.array(deflection).reshape(100,1)\r\n",
        "    net_output = deflection\r\n",
        "\r\n",
        "    partial_formula = np.array([[i[0]] for i in items])\r\n",
        "    degree= 3\r\n",
        "    # Degree of polynomial can be changed as per our requirement\r\n",
        "    x= partial_formula\r\n",
        "    for i in range(2,degree+1):\r\n",
        "        x= np.concatenate((x,partial_formula**(i)),axis=1)\r\n",
        "\r\n",
        "    x= np.concatenate((np.ones((100,1)),x),axis= 1)     # adding bias\r\n",
        "    \r\n",
        "    # calculating the coefficients of polynomial\r\n",
        "    inverse_mat= np.linalg.inv(np.dot(x.T,x))\r\n",
        "    coeff= np.dot(inverse_mat,x.T)          \r\n",
        "    coeff= np.dot(coeff,net_output)\r\n",
        "    \r\n",
        "    # get a prediction of polynomial part using regression\r\n",
        "    func=list()\r\n",
        "    for i in range(1,degree+1):\r\n",
        "        func.append(distx**i)\r\n",
        "\r\n",
        "    func= np.array(func).reshape((1,degree))\r\n",
        "    func= np.concatenate((np.ones((1,1)),func),axis= 1)\r\n",
        "    output1= np.dot(coeff.T,func.T)\r\n",
        "    \r\n",
        "    return output1[0,0]"
      ],
      "execution_count": 158,
      "outputs": []
    },
    {
      "cell_type": "code",
      "metadata": {
        "id": "1kAcYYV9hiuZ"
      },
      "source": [
        "def polynomial_regression_with_library(x,y):\r\n",
        "  deg= 3\r\n",
        "  nod = 15\r\n",
        "  dist_x = np.linspace(0.0001,1,nod)\r\n",
        "  deflection = []\r\n",
        "  for i in range(nod):\r\n",
        "      deflection.append(evaluate(dist_x[i],y))\r\n",
        "\r\n",
        "  dist_x = np.array(dist_x).reshape(nod,1)\r\n",
        "\r\n",
        "  poly = PolynomialFeatures(degree=deg)\r\n",
        "  x_poly = poly.fit_transform(dist_x)\r\n",
        "  poly.fit(x_poly,deflection)\r\n",
        "\r\n",
        "  model = LinearRegression()\r\n",
        "  model.fit(x_poly, deflection)\r\n",
        "\r\n",
        "  x_new= [[1,x,x**2,x**3]]\r\n",
        "  predicted_answer = model.predict(arr)\r\n",
        "  prediction = model.predict(x_poly)\r\n",
        "\r\n",
        "  plt.scatter(dist_x,deflection,color= \"red\")\r\n",
        "  plt.plot(dist_x,prediction,color= \"blue\")\r\n",
        "  plt.title(\"Polynomial regression\")\r\n",
        "  return predicted_answer[0]"
      ],
      "execution_count": 150,
      "outputs": []
    },
    {
      "cell_type": "markdown",
      "metadata": {
        "id": "SPluanJmItEb"
      },
      "source": [
        "# **Prediction**"
      ]
    },
    {
      "cell_type": "code",
      "metadata": {
        "colab": {
          "base_uri": "https://localhost:8080/",
          "height": 281
        },
        "id": "kZj6eZYoo7qy",
        "outputId": "33fe2bb5-ac34-497a-a0ad-40f218d498de"
      },
      "source": [
        "# distance where you want to know the deflection\r\n",
        "dist_x = np.linspace(0,L,20)\r\n",
        "distx = 0.967\r\n",
        "\r\n",
        "# distance where force is applied on the beam\r\n",
        "y = 5*L/6                            # <====================== Value of \"y\" can be changed from here\r\n",
        "answer= []\r\n",
        "\r\n",
        "accuracy_NN= 0\r\n",
        "# predicting the deflection on the the beam at various point\r\n",
        "for i in range(20):\r\n",
        "  if(dist_x[i]>=y):\r\n",
        "    max= dist_x[i]\r\n",
        "  else:\r\n",
        "    max= y\r\n",
        "\r\n",
        "  temp = find_min_tens(max)\r\n",
        "  a = dist_x[i]/temp\r\n",
        "  b = y/temp\r\n",
        "\r\n",
        "  # output from polynomial regression\r\n",
        "  output_from_poly = polynomial_regression_with_library(a,b)\r\n",
        "  output1 = output_from_poly\r\n",
        "\r\n",
        "  # output from NN\r\n",
        "  inputs = np.array([a,b])\r\n",
        "  output_from_NN = mlp.forward_propagate(inputs)\r\n",
        "  output2 = (output_from_NN[0]**3)/6\r\n",
        "  accuracy_NN= accuracy_NN + (diff(a,b)-output_from_NN)\r\n",
        "  \r\n",
        "  net_ans = (-F/(E*I))*(output1+output2)*(temp**3)            # answer is the sum of polynomial regression output and neural ntwork output\r\n",
        "  # saving the answer\r\n",
        "  answer.append(net_ans)\r\n",
        "\r\n",
        "accuracy_NN = accuracy_NN/20\r\n",
        "predicted_answer= answer[::-1]\r\n",
        "for i in range(20):\r\n",
        "  predicted_answer[i]= -0.1*predicted_answer[i]\r\n",
        "\r\n"
      ],
      "execution_count": 160,
      "outputs": [
        {
          "output_type": "display_data",
          "data": {
            "image/png": "[encoded data removed]",
            "text/plain": [
              "<Figure size 432x288 with 1 Axes>"
            ]
          },
          "metadata": {
            "tags": [],
            "needs_background": "light"
          }
        }
      ]
    },
    {
      "cell_type": "code",
      "metadata": {
        "colab": {
          "base_uri": "https://localhost:8080/",
          "height": 295
        },
        "id": "Qoekqra1C1HS",
        "outputId": "f8132893-c97e-45e9-f8a0-40d00e48d0f8"
      },
      "source": [
        "plt.plot(dist_x,predicted_answer)\r\n",
        "plt.title(\"Predicted deflection\")\r\n",
        "plt.xlabel(\"points on beam\")\r\n",
        "plt.ylabel(\"deflection\")\r\n",
        "plt.show()"
      ],
      "execution_count": 161,
      "outputs": [
        {
          "output_type": "display_data",
          "data": {
            "image/png": "[encoded data removed]",
            "text/plain": [
              "<Figure size 432x288 with 1 Axes>"
            ]
          },
          "metadata": {
            "tags": [],
            "needs_background": "light"
          }
        }
      ]
    },
    {
      "cell_type": "code",
      "metadata": {
        "colab": {
          "base_uri": "https://localhost:8080/",
          "height": 295
        },
        "id": "SNg4_IjCi0zd",
        "outputId": "8f37ebb3-2b76-4dcf-a160-f64bdde1c46f"
      },
      "source": [
        "actual_answer= []\r\n",
        "\r\n",
        "for i in range(20):\r\n",
        "  actual_answer.append(net_deflection(dist_x[i],y))\r\n",
        "\r\n",
        "plt.plot(dist_x,actual_answer)\r\n",
        "plt.title(\"Actual deflection\")\r\n",
        "plt.xlabel(\"points on beam\")\r\n",
        "plt.ylabel(\"deflection\")\r\n",
        "plt.show()"
      ],
      "execution_count": 145,
      "outputs": [
        {
          "output_type": "display_data",
          "data": {
            "image/png": "[encoded data removed]",
            "text/plain": [
              "<Figure size 432x288 with 1 Axes>"
            ]
          },
          "metadata": {
            "tags": [],
            "needs_background": "light"
          }
        }
      ]
    },
    {
      "cell_type": "code",
      "metadata": {
        "id": "MMeOEJ-z4Bz8"
      },
      "source": [
        ""
      ],
      "execution_count": null,
      "outputs": []
    }
  ]
}